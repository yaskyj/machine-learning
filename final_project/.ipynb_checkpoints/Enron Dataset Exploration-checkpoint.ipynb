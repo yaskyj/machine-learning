{
 "cells": [
  {
   "cell_type": "code",
   "execution_count": 1,
   "metadata": {
    "collapsed": false
   },
   "outputs": [
    {
     "name": "stderr",
     "output_type": "stream",
     "text": [
      "//anaconda/lib/python2.7/site-packages/sklearn/cross_validation.py:44: DeprecationWarning: This module was deprecated in version 0.18 in favor of the model_selection module into which all the refactored classes and functions are moved. Also note that the interface of the new CV iterators are different from that of this module. This module will be removed in 0.20.\n",
      "  \"This module will be removed in 0.20.\", DeprecationWarning)\n"
     ]
    }
   ],
   "source": [
    "import warnings\n",
    "warnings.filterwarnings('ignore')\n",
    "import sys\n",
    "import pickle\n",
    "sys.path.append(\"../tools/\")\n",
    "import pandas as pd\n",
    "from scipy import stats\n",
    "import numpy as np\n",
    "\n",
    "from feature_format import featureFormat, targetFeatureSplit\n",
    "from tester import dump_classifier_and_data"
   ]
  },
  {
   "cell_type": "code",
   "execution_count": 2,
   "metadata": {
    "collapsed": false,
    "scrolled": true
   },
   "outputs": [],
   "source": [
    "### Task 1: Select what features you'll use.\n",
    "### features_list is a list of strings, each of which is a feature name.\n",
    "### The first feature must be \"poi\".\n",
    "features_list = ['poi','salary'] # You will need to use more features\n",
    "### Features selection will be done after some removal of errant values, na values filled, and features creation\n",
    "### has occurred\n",
    "\n",
    "### Load the dictionary containing the dataset\n",
    "with open(\"final_project_dataset.pkl\", \"r\") as data_file:\n",
    "    data_dict = pickle.load(data_file)\n",
    "\n",
    "### Create a dataframe from the dictionary using pandas\n",
    "df = pd.DataFrame.from_dict(data_dict, orient='index').reset_index()"
   ]
  },
  {
   "cell_type": "code",
   "execution_count": 3,
   "metadata": {
    "collapsed": false
   },
   "outputs": [],
   "source": [
    "### Convert all columns besides email_address and poi to numbers\n",
    "cols = [c for c in df.columns if c not in ['index', 'poi', 'email_address']]\n",
    "df[cols] = df[cols].apply(pd.to_numeric, errors='coerce', axis=1)"
   ]
  },
  {
   "cell_type": "code",
   "execution_count": 4,
   "metadata": {
    "collapsed": false
   },
   "outputs": [
    {
     "name": "stdout",
     "output_type": "stream",
     "text": [
      "Total number people in dataset: 146\n",
      "Number of POI: 18\n",
      "Number of Non POI: 128\n",
      "Number of features in data: 22\n"
     ]
    }
   ],
   "source": [
    "### Some basic data exploration\n",
    "poi = df[df.poi == True]\n",
    "non_poi = df[df.poi == False]\n",
    "print \"Total number people in dataset: %.0f\\nNumber of POI: %.0f\\nNumber of Non POI: %.0f\\nNumber of features in data: %.0f\" % (len(df), \n",
    "      len(poi), len(non_poi), len(df.columns))"
   ]
  },
  {
   "cell_type": "code",
   "execution_count": 5,
   "metadata": {
    "collapsed": false
   },
   "outputs": [
    {
     "name": "stdout",
     "output_type": "stream",
     "text": [
      "Totals NAs for each number column:\n",
      "index                          0\n",
      "salary                        51\n",
      "to_messages                   60\n",
      "deferral_payments            107\n",
      "total_payments                21\n",
      "exercised_stock_options       44\n",
      "bonus                         64\n",
      "restricted_stock              36\n",
      "shared_receipt_with_poi       60\n",
      "restricted_stock_deferred    128\n",
      "total_stock_value             20\n",
      "expenses                      51\n",
      "loan_advances                142\n",
      "from_messages                 60\n",
      "other                         53\n",
      "from_this_person_to_poi       60\n",
      "poi                            0\n",
      "director_fees                129\n",
      "deferred_income               97\n",
      "long_term_incentive           80\n",
      "email_address                  0\n",
      "from_poi_to_this_person       60\n",
      "dtype: int64 \n",
      "Total NAs for email address: 35\n"
     ]
    }
   ],
   "source": [
    "### Total NaN values for each column \n",
    "print \"Totals NAs for each number column:\\n\", df.isnull().sum(), \"\\nTotal NAs for email address: %.0f\" % (len(df[df['email_address'] == 'NaN']))"
   ]
  },
  {
   "cell_type": "code",
   "execution_count": 6,
   "metadata": {
    "collapsed": true
   },
   "outputs": [],
   "source": [
    "### Task 2: Remove outliers\n",
    "### Upon inspecting the dataset, the TOTAL column was added. This is removed below.\n",
    "df = df[df['index'] != 'TOTAL']"
   ]
  },
  {
   "cell_type": "code",
   "execution_count": 7,
   "metadata": {
    "collapsed": true
   },
   "outputs": [],
   "source": [
    "### Now we'll fill NaN amounts with 0\n",
    "df = df.fillna(0)"
   ]
  },
  {
   "cell_type": "code",
   "execution_count": 8,
   "metadata": {
    "collapsed": true
   },
   "outputs": [],
   "source": [
    "### Task 3: Create new feature(s)\n",
    "### New features using all emails including poi with this person\n",
    "df['total_poi_emails'] = df['shared_receipt_with_poi'] + df['from_this_person_to_poi'] + df['from_poi_to_this_person']"
   ]
  },
  {
   "cell_type": "code",
   "execution_count": 11,
   "metadata": {
    "collapsed": true
   },
   "outputs": [],
   "source": [
    "### Temporary features for analysis\n",
    "temp_features = [c for c in df.columns if c not in ['index', 'poi', 'email_address']]"
   ]
  },
  {
   "cell_type": "code",
   "execution_count": 12,
   "metadata": {
    "collapsed": false
   },
   "outputs": [],
   "source": [
    "### First we'll scale the features. We will probably be trying out SVM so, while not necessary for all classifers\n",
    "### it won't adversely impact, for example, Random Forests, while SVM will be negatively impacted by not feature\n",
    "### scaling\n",
    "from sklearn.preprocessing import MinMaxScaler\n",
    "\n",
    "scaler = MinMaxScaler()\n",
    "df[temp_features] = scaler.fit_transform(df[temp_features])"
   ]
  },
  {
   "cell_type": "code",
   "execution_count": 13,
   "metadata": {
    "collapsed": false
   },
   "outputs": [
    {
     "name": "stdout",
     "output_type": "stream",
     "text": [
      "[ 1  4  7  1  1  1  1  1  9  1  1  8  3  1  1 10  5  6  2  1]\n",
      "[ True False False  True  True  True  True  True False  True  True False\n",
      " False  True  True False False False False  True]\n"
     ]
    }
   ],
   "source": [
    "### Using Recursive Feature Elimination to rank features\n",
    "from sklearn.svm import SVR\n",
    "from sklearn.ensemble import RandomForestClassifier\n",
    "from sklearn.feature_selection import RFECV\n",
    "\n",
    "estimator = RandomForestClassifier()\n",
    "selector = RFECV(estimator, step=1, cv=5)\n",
    "selector = selector.fit(df[temp_features], df['poi'])\n",
    "print selector.ranking_\n",
    "print selector.support_"
   ]
  },
  {
   "cell_type": "code",
   "execution_count": 14,
   "metadata": {
    "collapsed": true
   },
   "outputs": [],
   "source": [
    "### Take the features selected by RFECV\n",
    "temp_features = [a for a, t in zip(temp_features, selector.support_) if t]"
   ]
  },
  {
   "cell_type": "code",
   "execution_count": 15,
   "metadata": {
    "collapsed": false
   },
   "outputs": [],
   "source": [
    "### Take the top half of the features selected with RFECV\n",
    "from sklearn.feature_selection import SelectPercentile\n",
    "from sklearn.feature_selection import chi2\n",
    "\n",
    "selector = SelectPercentile(chi2, percentile=50).fit(df[temp_features], df['poi'])"
   ]
  },
  {
   "cell_type": "code",
   "execution_count": 17,
   "metadata": {
    "collapsed": true
   },
   "outputs": [],
   "source": [
    "### Take the features selected by SelectKBest\n",
    "temp_features = [a for a, t in zip(temp_features, selector.get_support()) if t]"
   ]
  },
  {
   "cell_type": "code",
   "execution_count": 18,
   "metadata": {
    "collapsed": true
   },
   "outputs": [],
   "source": [
    "### Task 4: Try a varity of classifiers\n",
    "### Please name your classifier clf for easy export below.\n",
    "### Note that if you want to do PCA or other multi-stage operations,\n",
    "### you'll need to use Pipelines. For more info:\n",
    "### http://scikit-learn.org/stable/modules/pipeline.html\n",
    "\n",
    "# Provided to give you a starting point. Try a variety of classifiers.\n",
    "# Importing a variety of classifiers\n",
    "from sklearn.svm import SVC\n",
    "from sklearn.ensemble import RandomForestClassifier\n",
    "from sklearn.metrics import classification_report\n",
    "from sklearn.naive_bayes import GaussianNB"
   ]
  },
  {
   "cell_type": "code",
   "execution_count": 20,
   "metadata": {
    "collapsed": false
   },
   "outputs": [
    {
     "name": "stdout",
     "output_type": "stream",
     "text": [
      "0.4\n",
      "0.5\n"
     ]
    }
   ],
   "source": [
    "### Task 5: Tune your classifier to achieve better than .3 precision and recall \n",
    "### using our testing script. Check the tester.py script in the final project\n",
    "### folder for details on the evaluation method, especially the test_classifier\n",
    "### function. Because of the small size of the dataset, the script uses\n",
    "### stratified shuffle split cross validation. For more info: \n",
    "### http://scikit-learn.org/stable/modules/generated/sklearn.cross_validation.StratifiedShuffleSplit.html\n",
    "\n",
    "# Example starting point. Try investigating other evaluation techniques!\n",
    "from sklearn.cross_validation import train_test_split\n",
    "features_train, features_test, labels_train, labels_test = \\\n",
    "    train_test_split(df[temp_features], df['poi'], test_size=0.3, random_state=42)\n",
    "\n",
    "from sklearn.grid_search import GridSearchCV\n",
    "from sklearn.metrics import precision_score, recall_score\n",
    "\n",
    "naive = GaussianNB()\n",
    "\n",
    "naive = naive.fit(features_train, labels_train)\n",
    "\n",
    "pred = naive.predict(features_test)\n",
    "\n",
    "print precision_score(labels_test, pred)\n",
    "print recall_score(labels_test, pred)"
   ]
  },
  {
   "cell_type": "code",
   "execution_count": 21,
   "metadata": {
    "collapsed": false
   },
   "outputs": [
    {
     "name": "stdout",
     "output_type": "stream",
     "text": [
      "# Tuning hyper-parameters for precision\n",
      "()\n",
      "Best parameters set found on development set:\n",
      "()\n",
      "SVC(C=100, cache_size=200, class_weight=None, coef0=0.0,\n",
      "  decision_function_shape=None, degree=3, gamma='auto', kernel='linear',\n",
      "  max_iter=-1, probability=False, random_state=None, shrinking=True,\n",
      "  tol=0.001, verbose=False)\n",
      "()\n",
      "Grid scores on development set:\n",
      "()\n",
      "0.000 (+/-0.000) for {'kernel': 'rbf', 'C': 1, 'gamma': 0.001}\n",
      "0.000 (+/-0.000) for {'kernel': 'rbf', 'C': 1, 'gamma': 0.0001}\n",
      "0.000 (+/-0.000) for {'kernel': 'rbf', 'C': 10, 'gamma': 0.001}\n",
      "0.000 (+/-0.000) for {'kernel': 'rbf', 'C': 10, 'gamma': 0.0001}\n",
      "0.000 (+/-0.000) for {'kernel': 'rbf', 'C': 100, 'gamma': 0.001}\n",
      "0.000 (+/-0.000) for {'kernel': 'rbf', 'C': 100, 'gamma': 0.0001}\n",
      "0.000 (+/-0.000) for {'kernel': 'rbf', 'C': 1000, 'gamma': 0.001}\n",
      "0.000 (+/-0.000) for {'kernel': 'rbf', 'C': 1000, 'gamma': 0.0001}\n",
      "0.000 (+/-0.000) for {'kernel': 'linear', 'C': 1}\n",
      "0.000 (+/-0.000) for {'kernel': 'linear', 'C': 10}\n",
      "0.198 (+/-0.200) for {'kernel': 'linear', 'C': 100}\n",
      "0.198 (+/-0.200) for {'kernel': 'linear', 'C': 1000}\n",
      "()\n",
      "Detailed classification report:\n",
      "()\n",
      "The model is trained on the full development set.\n",
      "The scores are computed on the full evaluation set.\n",
      "()\n",
      "             precision    recall  f1-score   support\n",
      "\n",
      "      False       0.93      0.95      0.94        40\n",
      "       True       0.33      0.25      0.29         4\n",
      "\n",
      "avg / total       0.87      0.89      0.88        44\n",
      "\n",
      "()\n",
      "# Tuning hyper-parameters for recall\n",
      "()\n",
      "Best parameters set found on development set:\n",
      "()\n",
      "SVC(C=100, cache_size=200, class_weight=None, coef0=0.0,\n",
      "  decision_function_shape=None, degree=3, gamma='auto', kernel='linear',\n",
      "  max_iter=-1, probability=False, random_state=None, shrinking=True,\n",
      "  tol=0.001, verbose=False)\n",
      "()\n",
      "Grid scores on development set:\n",
      "()\n",
      "0.000 (+/-0.000) for {'kernel': 'rbf', 'C': 1, 'gamma': 0.001}\n",
      "0.000 (+/-0.000) for {'kernel': 'rbf', 'C': 1, 'gamma': 0.0001}\n",
      "0.000 (+/-0.000) for {'kernel': 'rbf', 'C': 10, 'gamma': 0.001}\n",
      "0.000 (+/-0.000) for {'kernel': 'rbf', 'C': 10, 'gamma': 0.0001}\n",
      "0.000 (+/-0.000) for {'kernel': 'rbf', 'C': 100, 'gamma': 0.001}\n",
      "0.000 (+/-0.000) for {'kernel': 'rbf', 'C': 100, 'gamma': 0.0001}\n",
      "0.000 (+/-0.000) for {'kernel': 'rbf', 'C': 1000, 'gamma': 0.001}\n",
      "0.000 (+/-0.000) for {'kernel': 'rbf', 'C': 1000, 'gamma': 0.0001}\n",
      "0.000 (+/-0.000) for {'kernel': 'linear', 'C': 1}\n",
      "0.000 (+/-0.000) for {'kernel': 'linear', 'C': 10}\n",
      "0.066 (+/-0.067) for {'kernel': 'linear', 'C': 100}\n",
      "0.066 (+/-0.067) for {'kernel': 'linear', 'C': 1000}\n",
      "()\n",
      "Detailed classification report:\n",
      "()\n",
      "The model is trained on the full development set.\n",
      "The scores are computed on the full evaluation set.\n",
      "()\n",
      "             precision    recall  f1-score   support\n",
      "\n",
      "      False       0.93      0.95      0.94        40\n",
      "       True       0.33      0.25      0.29         4\n",
      "\n",
      "avg / total       0.87      0.89      0.88        44\n",
      "\n",
      "()\n"
     ]
    }
   ],
   "source": [
    "### Set the parameters by cross-validation\n",
    "### This is from http://scikit-learn.org/0.15/auto_examples/grid_search_digits.html\n",
    "tuned_parameters = [{'kernel': ['rbf'], 'gamma': [1e-3, 1e-4],\n",
    "                     'C': [1, 10, 100, 1000]},\n",
    "                    {'kernel': ['linear'], 'C': [1, 10, 100, 1000]}]\n",
    "\n",
    "scores = ['precision', 'recall']\n",
    "\n",
    "for score in scores:\n",
    "    print(\"# Tuning hyper-parameters for %s\" % score)\n",
    "    print()\n",
    "\n",
    "    clf = GridSearchCV(SVC(C=1), tuned_parameters, cv=5, scoring=score)\n",
    "    clf.fit(features_train, labels_train)\n",
    "\n",
    "    print(\"Best parameters set found on development set:\")\n",
    "    print()\n",
    "    print(clf.best_estimator_)\n",
    "    print()\n",
    "    print(\"Grid scores on development set:\")\n",
    "    print()\n",
    "    for params, mean_score, scores in clf.grid_scores_:\n",
    "        print(\"%0.3f (+/-%0.03f) for %r\"\n",
    "              % (mean_score, scores.std() / 2, params))\n",
    "    print()\n",
    "\n",
    "    print(\"Detailed classification report:\")\n",
    "    print()\n",
    "    print(\"The model is trained on the full development set.\")\n",
    "    print(\"The scores are computed on the full evaluation set.\")\n",
    "    print()\n",
    "    y_true, y_pred = labels_test, clf.predict(features_test)\n",
    "    print(classification_report(y_true, y_pred))\n",
    "    print()\n",
    "    "
   ]
  },
  {
   "cell_type": "code",
   "execution_count": 22,
   "metadata": {
    "collapsed": false
   },
   "outputs": [
    {
     "name": "stdout",
     "output_type": "stream",
     "text": [
      "# Tuning hyper-parameters for precision\n",
      "()\n",
      "Best parameters set found on development set:\n",
      "()\n",
      "RandomForestClassifier(bootstrap=True, class_weight=None, criterion='gini',\n",
      "            max_depth=None, max_features='auto', max_leaf_nodes=None,\n",
      "            min_impurity_split=1e-07, min_samples_leaf=1,\n",
      "            min_samples_split=5, min_weight_fraction_leaf=0.0,\n",
      "            n_estimators=100, n_jobs=1, oob_score=False, random_state=None,\n",
      "            verbose=0, warm_start=False)\n",
      "()\n",
      "Grid scores on development set:\n",
      "()\n",
      "0.267 (+/-0.194) for {'min_samples_split': 5, 'n_estimators': 10}\n",
      "0.302 (+/-0.200) for {'min_samples_split': 5, 'n_estimators': 100}\n",
      "0.267 (+/-0.194) for {'min_samples_split': 5, 'n_estimators': 1000}\n",
      "0.267 (+/-0.194) for {'min_samples_split': 10, 'n_estimators': 10}\n",
      "0.000 (+/-0.000) for {'min_samples_split': 10, 'n_estimators': 100}\n",
      "0.000 (+/-0.000) for {'min_samples_split': 10, 'n_estimators': 1000}\n",
      "0.000 (+/-0.000) for {'min_samples_split': 20, 'n_estimators': 10}\n",
      "0.198 (+/-0.200) for {'min_samples_split': 20, 'n_estimators': 100}\n",
      "0.198 (+/-0.200) for {'min_samples_split': 20, 'n_estimators': 1000}\n",
      "()\n",
      "Detailed classification report:\n",
      "()\n",
      "The model is trained on the full development set.\n",
      "The scores are computed on the full evaluation set.\n",
      "()\n",
      "             precision    recall  f1-score   support\n",
      "\n",
      "      False       0.91      1.00      0.95        40\n",
      "       True       0.00      0.00      0.00         4\n",
      "\n",
      "avg / total       0.83      0.91      0.87        44\n",
      "\n",
      "()\n",
      "# Tuning hyper-parameters for recall\n",
      "()\n",
      "Best parameters set found on development set:\n",
      "()\n",
      "RandomForestClassifier(bootstrap=True, class_weight=None, criterion='gini',\n",
      "            max_depth=None, max_features='auto', max_leaf_nodes=None,\n",
      "            min_impurity_split=1e-07, min_samples_leaf=1,\n",
      "            min_samples_split=5, min_weight_fraction_leaf=0.0,\n",
      "            n_estimators=10, n_jobs=1, oob_score=False, random_state=None,\n",
      "            verbose=0, warm_start=False)\n",
      "()\n",
      "Grid scores on development set:\n",
      "()\n",
      "0.267 (+/-0.125) for {'min_samples_split': 5, 'n_estimators': 10}\n",
      "0.205 (+/-0.133) for {'min_samples_split': 5, 'n_estimators': 100}\n",
      "0.066 (+/-0.067) for {'min_samples_split': 5, 'n_estimators': 1000}\n",
      "0.066 (+/-0.067) for {'min_samples_split': 10, 'n_estimators': 10}\n",
      "0.069 (+/-0.067) for {'min_samples_split': 10, 'n_estimators': 100}\n",
      "0.000 (+/-0.000) for {'min_samples_split': 10, 'n_estimators': 1000}\n",
      "0.066 (+/-0.067) for {'min_samples_split': 20, 'n_estimators': 10}\n",
      "0.066 (+/-0.067) for {'min_samples_split': 20, 'n_estimators': 100}\n",
      "0.066 (+/-0.067) for {'min_samples_split': 20, 'n_estimators': 1000}\n",
      "()\n",
      "Detailed classification report:\n",
      "()\n",
      "The model is trained on the full development set.\n",
      "The scores are computed on the full evaluation set.\n",
      "()\n",
      "             precision    recall  f1-score   support\n",
      "\n",
      "      False       0.90      0.95      0.93        40\n",
      "       True       0.00      0.00      0.00         4\n",
      "\n",
      "avg / total       0.82      0.86      0.84        44\n",
      "\n",
      "()\n"
     ]
    }
   ],
   "source": [
    "# Set the parameters by cross-validation\n",
    "tuned_parameters = [{'n_estimators': [10, 100, 1000], 'min_samples_split': [5, 10, 20]}]\n",
    "\n",
    "scores = ['precision', 'recall']\n",
    "\n",
    "for score in scores:\n",
    "    print(\"# Tuning hyper-parameters for %s\" % score)\n",
    "    print()\n",
    "\n",
    "    clf = GridSearchCV(RandomForestClassifier(), tuned_parameters, cv=5, scoring=score)\n",
    "    clf.fit(features_train, labels_train)\n",
    "\n",
    "    print(\"Best parameters set found on development set:\")\n",
    "    print()\n",
    "    print(clf.best_estimator_)\n",
    "    print()\n",
    "    print(\"Grid scores on development set:\")\n",
    "    print()\n",
    "    for params, mean_score, scores in clf.grid_scores_:\n",
    "        print(\"%0.3f (+/-%0.03f) for %r\"\n",
    "              % (mean_score, scores.std() / 2, params))\n",
    "    print()\n",
    "\n",
    "    print(\"Detailed classification report:\")\n",
    "    print()\n",
    "    print(\"The model is trained on the full development set.\")\n",
    "    print(\"The scores are computed on the full evaluation set.\")\n",
    "    print()\n",
    "    y_true, y_pred = labels_test, clf.predict(features_test)\n",
    "    print(classification_report(y_true, y_pred))\n",
    "    print()\n",
    "    "
   ]
  },
  {
   "cell_type": "code",
   "execution_count": 25,
   "metadata": {
    "collapsed": false
   },
   "outputs": [],
   "source": [
    "### Make features list for data dump\n",
    "features_list = ['poi'] + temp_features"
   ]
  },
  {
   "cell_type": "code",
   "execution_count": 30,
   "metadata": {
    "collapsed": true
   },
   "outputs": [],
   "source": [
    "### Reset index to names\n",
    "df = df.set_index(['index'])"
   ]
  },
  {
   "cell_type": "code",
   "execution_count": 32,
   "metadata": {
    "collapsed": true
   },
   "outputs": [],
   "source": [
    "### Store to my_dataset for easy export below.\n",
    "my_dataset = df.to_dict(orient='index')"
   ]
  },
  {
   "cell_type": "code",
   "execution_count": null,
   "metadata": {
    "collapsed": true
   },
   "outputs": [],
   "source": [
    "### Extract features and labels from dataset for local testing\n",
    "data = featureFormat(my_dataset, features_list, sort_keys = True)\n",
    "labels, features = targetFeatureSplit(data)"
   ]
  },
  {
   "cell_type": "code",
   "execution_count": 34,
   "metadata": {
    "collapsed": true
   },
   "outputs": [],
   "source": [
    "### Task 6: Dump your classifier, dataset, and features_list so anyone can\n",
    "### check your results. You do not need to change anything below, but make sure\n",
    "### that the version of poi_id.py that you submit can be run on its own and\n",
    "### generates the necessary .pkl files for validating your results.\n",
    "\n",
    "dump_classifier_and_data(clf, my_dataset, features_list)"
   ]
  }
 ],
 "metadata": {
  "kernelspec": {
   "display_name": "Python 2",
   "language": "python",
   "name": "python2"
  },
  "language_info": {
   "codemirror_mode": {
    "name": "ipython",
    "version": 2
   },
   "file_extension": ".py",
   "mimetype": "text/x-python",
   "name": "python",
   "nbconvert_exporter": "python",
   "pygments_lexer": "ipython2",
   "version": "2.7.13"
  }
 },
 "nbformat": 4,
 "nbformat_minor": 2
}
